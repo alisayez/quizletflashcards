{
 "cells": [
  {
   "cell_type": "markdown",
   "id": "af267529",
   "metadata": {},
   "source": [
    "## Webscraping Definitions Using a List of Words with Part of Speech Tags"
   ]
  },
  {
   "cell_type": "code",
   "execution_count": null,
   "id": "ad401b5b",
   "metadata": {},
   "outputs": [],
   "source": [
    "from selenium import webdriver\n",
    "from bs4 import BeautifulSoup\n",
    "import pandas as pd\n",
    "import time\n",
    "import re"
   ]
  },
  {
   "cell_type": "markdown",
   "id": "947c6002",
   "metadata": {},
   "source": [
    "### Learn How to Use a WebDriver"
   ]
  },
  {
   "cell_type": "code",
   "execution_count": null,
   "id": "2859d5e6",
   "metadata": {},
   "outputs": [],
   "source": [
    "url = \"https://www.oxfordlearnersdictionaries.com/search/english/?q=hello\""
   ]
  },
  {
   "cell_type": "code",
   "execution_count": null,
   "id": "2e85fbca",
   "metadata": {},
   "outputs": [],
   "source": [
    "driver = webdriver.Chrome()\n",
    "driver.minimize_window()\n",
    "driver.get(url)"
   ]
  },
  {
   "cell_type": "markdown",
   "id": "c2d6b963",
   "metadata": {},
   "source": [
    "### Learn How to Use BeautifulSoup"
   ]
  },
  {
   "cell_type": "code",
   "execution_count": null,
   "id": "672d8aa8",
   "metadata": {},
   "outputs": [],
   "source": [
    "content = driver.page_source\n",
    "soup = BeautifulSoup(content)"
   ]
  },
  {
   "cell_type": "code",
   "execution_count": null,
   "id": "b14d588b",
   "metadata": {},
   "outputs": [],
   "source": [
    "pos = soup.find_all(\"a\", {\"class\": \"selected\"})"
   ]
  },
  {
   "cell_type": "code",
   "execution_count": null,
   "id": "ef3b437c",
   "metadata": {},
   "outputs": [],
   "source": [
    "pos"
   ]
  },
  {
   "cell_type": "code",
   "execution_count": null,
   "id": "877d7f98",
   "metadata": {},
   "outputs": [],
   "source": [
    "definitions = soup.find_all(\"span\", {\"class\": \"def\"})"
   ]
  },
  {
   "cell_type": "code",
   "execution_count": null,
   "id": "3a83a6c2",
   "metadata": {},
   "outputs": [],
   "source": [
    "len(definitions)"
   ]
  },
  {
   "cell_type": "code",
   "execution_count": null,
   "id": "212db03e",
   "metadata": {},
   "outputs": [],
   "source": [
    "definitions[0]"
   ]
  },
  {
   "cell_type": "code",
   "execution_count": null,
   "id": "8b842639",
   "metadata": {},
   "outputs": [],
   "source": [
    "pattern = r'<[^>]+>'"
   ]
  },
  {
   "cell_type": "code",
   "execution_count": null,
   "id": "5d7c12d6",
   "metadata": {},
   "outputs": [],
   "source": [
    ">>> re.sub(pattern, '', str(definitions[0]))"
   ]
  },
  {
   "cell_type": "code",
   "execution_count": null,
   "id": "3f216441",
   "metadata": {},
   "outputs": [],
   "source": [
    ">>> re.sub('<[^>]+>', '', str(pos))"
   ]
  },
  {
   "cell_type": "markdown",
   "id": "622d66d4",
   "metadata": {},
   "source": [
    "### Read the File with a List of Words"
   ]
  },
  {
   "cell_type": "code",
   "execution_count": null,
   "id": "45976d10",
   "metadata": {},
   "outputs": [],
   "source": [
    "df = pd.read_csv(\"C1_tags.csv\")"
   ]
  },
  {
   "cell_type": "code",
   "execution_count": null,
   "id": "18710ecc",
   "metadata": {},
   "outputs": [],
   "source": [
    "df"
   ]
  },
  {
   "cell_type": "code",
   "execution_count": null,
   "id": "a2302675",
   "metadata": {},
   "outputs": [],
   "source": [
    "df[df['english'] == 'downward']"
   ]
  },
  {
   "cell_type": "code",
   "execution_count": null,
   "id": "a3bdcffa",
   "metadata": {},
   "outputs": [],
   "source": [
    "### Look for n/a values\n",
    "for i in range(len(df)):\n",
    "    if type(df.loc[i]['english']) == float:\n",
    "        print(i)"
   ]
  },
  {
   "cell_type": "code",
   "execution_count": null,
   "id": "30c33de9",
   "metadata": {},
   "outputs": [],
   "source": [
    "df_definitions = []"
   ]
  },
  {
   "cell_type": "code",
   "execution_count": null,
   "id": "0a82a0ce",
   "metadata": {},
   "outputs": [],
   "source": [
    "#Catch first 5 definitions:\n",
    "for i in range(0, 5):\n",
    "    word = df.loc[i]['english']\n",
    "    word = word.lower()\n",
    "    tag = df.loc[i]['tag']\n",
    "    print(word)\n",
    "    print(tag)\n",
    "    driver = webdriver.Chrome()\n",
    "    driver.get(\"https://www.oxfordlearnersdictionaries.com/definition/english/\"+word)\n",
    "    time.sleep(5)\n",
    "    content = driver.page_source\n",
    "    soup = BeautifulSoup(content)\n",
    "    #print(soup)\n",
    "    pos = soup.find_all(\"a\", {\"class\": \"selected\"})\n",
    "    print(\"PRINTING POS\")\n",
    "    #print(pos)\n",
    "    pattern = r'<[^>]+>'\n",
    "    cleaned_pos = re.sub('<[^>]+>', '', str(pos))\n",
    "    print(cleaned_pos)\n",
    "    definitions = soup.find_all(\"span\", {\"class\": \"def\"})\n",
    "    for i in range(len(definitions)):\n",
    "        cleaned_def = re.sub(pattern, '', str(definitions[i]))\n",
    "        definitions[i] = cleaned_def\n",
    "        #print(cleaned_def)\n",
    "    #print(\"CLEANED DEFS:\")\n",
    "    #print(definitions)\n",
    "    if str(tag) == 'nan':\n",
    "        if(len(definitions) > 0):\n",
    "            df_definitions.append(definitions[0])\n",
    "        else:\n",
    "            df_definitions.append('NOTFOUND')\n",
    "    elif 'noun' not in cleaned_pos and 'verb' not in cleaned_pos and 'adverb' not in cleaned_pos and 'exclamation' not in cleaned_pos and 'adjective' not in cleaned_pos and 'preposition' not in cleaned_pos and 'conjunction' not in cleaned_pos:\n",
    "        if(len(definitions) > 0):\n",
    "            df_definitions.append(definitions[0])\n",
    "        else:\n",
    "            df_definitions.append('NOTFOUND')\n",
    "    else:\n",
    "        c = 2\n",
    "        loop_definitions = ''\n",
    "        while tag not in cleaned_pos:\n",
    "            if c > 4:\n",
    "                c = 10\n",
    "                break\n",
    "            time.sleep(5)\n",
    "            driver = webdriver.Chrome()\n",
    "            driver.get(\"https://www.oxfordlearnersdictionaries.com/definition/english/\"+word+\"_\"+str(c))\n",
    "            content = driver.page_source\n",
    "            soup = BeautifulSoup(content)\n",
    "            pos = soup.find_all(\"a\", {\"class\": \"selected\"})\n",
    "            loop_definitions = soup.find_all(\"span\", {\"class\": \"def\"})\n",
    "            pattern = r'<[^>]+>'\n",
    "            cleaned_pos = re.sub(pattern, '', str(pos))\n",
    "            c = c+1\n",
    "            \n",
    "        if c != 10:\n",
    "            loop_definitions = soup.find_all(\"span\", {\"class\": \"def\"})\n",
    "            definitions = loop_definitions\n",
    "            for i in range(len(definitions)):\n",
    "                cleaned_def = re.sub(pattern, '', str(definitions[i]))\n",
    "                definitions[i] = cleaned_def\n",
    "        #print(\"PRINTING DEFS:\")\n",
    "        #print(definitions)\n",
    "        def_string = ''\n",
    "        if len(definitions)> 1:\n",
    "            for i in range(len(definitions)):\n",
    "                def_string = def_string + str(i+1) + \". \" + definitions[i]\n",
    "                if i < len(definitions)-1:\n",
    "                    def_string = def_string + \" \"\n",
    "                    \n",
    "            df_definitions.append(def_string)\n",
    "        else:\n",
    "            if(len(definitions) > 0):\n",
    "                df_definitions.append(definitions[0])\n",
    "            else:\n",
    "                df_definitions.append('NOTFOUND')\n",
    "        \n",
    "                "
   ]
  },
  {
   "cell_type": "code",
   "execution_count": null,
   "id": "38ec7410",
   "metadata": {},
   "outputs": [],
   "source": [
    "len(df_definitions)"
   ]
  },
  {
   "cell_type": "code",
   "execution_count": null,
   "id": "8742fbd7",
   "metadata": {},
   "outputs": [],
   "source": [
    "# Save the definitions to a txt file\n",
    "with open('definitions_c1.txt', 'w', encoding='utf-8-sig') as f:\n",
    "    for line in df_definitions:\n",
    "        f.write(\"%s\\n\" % line)"
   ]
  },
  {
   "cell_type": "code",
   "execution_count": null,
   "id": "ec6d668d",
   "metadata": {},
   "outputs": [],
   "source": [
    "# !Only after all definitions are webscraped\n",
    "# df['definition'] = df_definitions\n",
    "# df.to_csv(\"c1_final.csv\", index=False, encoding='utf-8-sig')"
   ]
  },
  {
   "cell_type": "markdown",
   "id": "a62eb0f3",
   "metadata": {},
   "source": [
    "#### If list of definitions is too long you can cut leaving only first 3 definitions"
   ]
  },
  {
   "cell_type": "code",
   "execution_count": null,
   "id": "e494ec7d",
   "metadata": {},
   "outputs": [],
   "source": [
    "df = pd.read_csv(\"c1_final.csv\")"
   ]
  },
  {
   "cell_type": "code",
   "execution_count": null,
   "id": "63d36cb9",
   "metadata": {},
   "outputs": [],
   "source": [
    "df"
   ]
  },
  {
   "cell_type": "code",
   "execution_count": null,
   "id": "100d1d0f",
   "metadata": {},
   "outputs": [],
   "source": [
    "definitions = df['definition'].tolist()"
   ]
  },
  {
   "cell_type": "code",
   "execution_count": null,
   "id": "78983510",
   "metadata": {},
   "outputs": [],
   "source": [
    "definitions[111]"
   ]
  },
  {
   "cell_type": "code",
   "execution_count": null,
   "id": "45da1f3e",
   "metadata": {},
   "outputs": [],
   "source": [
    "for i in range(len(definitions)):\n",
    "    if '4.' in definitions[i] :\n",
    "        index = [m.start() for m in re.finditer('3.', definitions[i])]\n",
    "        definitions[i] = definitions[i][:index[0]-1]"
   ]
  },
  {
   "cell_type": "code",
   "execution_count": null,
   "id": "eec9b437",
   "metadata": {},
   "outputs": [],
   "source": [
    "df['definition'] = definitions"
   ]
  },
  {
   "cell_type": "code",
   "execution_count": null,
   "id": "a46c1dd4",
   "metadata": {},
   "outputs": [],
   "source": [
    "# You might need to append some definitions manually\n",
    "df[(df['definition'] == 'NOTFOUND') & (df['tag'].isna())]"
   ]
  },
  {
   "cell_type": "code",
   "execution_count": null,
   "id": "758eee86",
   "metadata": {},
   "outputs": [],
   "source": [
    "df['definition'] = definitions"
   ]
  },
  {
   "cell_type": "code",
   "execution_count": null,
   "id": "b85ff458",
   "metadata": {},
   "outputs": [],
   "source": [
    "df"
   ]
  },
  {
   "cell_type": "code",
   "execution_count": null,
   "id": "62806ad2",
   "metadata": {},
   "outputs": [],
   "source": [
    "df = df.drop_duplicates()"
   ]
  },
  {
   "cell_type": "code",
   "execution_count": null,
   "id": "cc8f3f4e",
   "metadata": {},
   "outputs": [],
   "source": [
    "df.to_csv(\"c1_short.csv\", index=False, encoding='utf-8-sig')"
   ]
  },
  {
   "cell_type": "code",
   "execution_count": null,
   "id": "898a419e",
   "metadata": {},
   "outputs": [],
   "source": []
  },
  {
   "cell_type": "code",
   "execution_count": null,
   "id": "8731be71",
   "metadata": {},
   "outputs": [],
   "source": []
  }
 ],
 "metadata": {
  "kernelspec": {
   "display_name": "Python 3 (ipykernel)",
   "language": "python",
   "name": "python3"
  },
  "language_info": {
   "codemirror_mode": {
    "name": "ipython",
    "version": 3
   },
   "file_extension": ".py",
   "mimetype": "text/x-python",
   "name": "python",
   "nbconvert_exporter": "python",
   "pygments_lexer": "ipython3",
   "version": "3.9.7"
  }
 },
 "nbformat": 4,
 "nbformat_minor": 5
}
